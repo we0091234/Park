{
 "metadata": {
  "language_info": {
   "codemirror_mode": {
    "name": "ipython",
    "version": 3
   },
   "file_extension": ".py",
   "mimetype": "text/x-python",
   "name": "python",
   "nbconvert_exporter": "python",
   "pygments_lexer": "ipython3",
   "version": "3.6.10"
  },
  "orig_nbformat": 4,
  "kernelspec": {
   "name": "python3",
   "display_name": "Python 3.6.10 64-bit ('py36')"
  },
  "interpreter": {
   "hash": "708b67ad4572263249eaba9146d5d5a4fae326fd7d69b69783fe0e4ed537edbf"
  }
 },
 "nbformat": 4,
 "nbformat_minor": 2,
 "cells": [
  {
   "source": [
    "import pandas as pd\n",
    "import numpy as np\n",
    "import os\n",
    "import sys\n",
    "import io\n",
    "from nparrayCaculate import allFilePath\n",
    "# sys.stdout=io.TextIOWrapper(sys.stdout.buffer,encoding='utf8')\n",
    "\n",
    "\n",
    "pd.set_option('display.max_rows',1000)\n",
    "pd.set_option('display.max_columns',100)\n",
    "pd.set_option('display.width', 1000)\n",
    "pd.set_option('display.max_colwidth',1000)\n",
    "\n",
    "saveCsvPath = r\"I:\\MachineLearning\\Park\\HKPark_0526\\data\\test_0528\\test\"\n",
    "\n",
    "csvFilelist =[]\n",
    "allFilePath(saveCsvPath,csvFilelist)\n",
    "maxList=[]\n",
    "for csvFile in csvFilelist:\n",
    "    if csvFile.endswith(\".csv\"):\n",
    "        pd_csv = pd.read_csv(csvFile)\n",
    "        everyDayPd=pd_csv.groupby([\"Date\"])\n",
    "        vehicleNum = list(pd_csv[\"VehicleNum\"])\n",
    "        vehicleNum=np.array(vehicleNum)\n",
    "        for temp in everyDayPd:\n",
    "            maxList.append(np.array(list(temp[1][\"VehicleNum\"])).max())\n",
    "            # print(temp[0],np.array(list(temp[1][\"VehicleNum\"])).max())\n",
    "\n",
    "\n",
    "meanData = np.array(maxList).mean()\n",
    "\n",
    "\n",
    "for csvFile in csvFilelist:\n",
    "    pd_csv = pd.read_csv(csvFile)\n",
    "    pd_csv[\"ratio\"]=pd_csv[\"VehicleNum\"].apply(lambda x: int(x)/meanData)\n",
    "    pd_csv[\"is_busy\"]=pd_csv[\"ratio\"].apply(lambda x: 1 if x >0.5 else 0)\n",
    "    print(pd_csv[:-20])\n"
   ],
   "cell_type": "code",
   "metadata": {
    "tags": []
   },
   "execution_count": 1,
   "outputs": [
    {
     "output_type": "error",
     "ename": "AttributeError",
     "evalue": "'OutStream' object has no attribute 'buffer'",
     "traceback": [
      "\u001b[1;31m---------------------------------------------------------------------------\u001b[0m",
      "\u001b[1;31mAttributeError\u001b[0m                            Traceback (most recent call last)",
      "\u001b[1;32m<ipython-input-1-b851e3e3e01f>\u001b[0m in \u001b[0;36m<module>\u001b[1;34m\u001b[0m\n\u001b[0;32m      5\u001b[0m \u001b[1;32mimport\u001b[0m \u001b[0mio\u001b[0m\u001b[1;33m\u001b[0m\u001b[1;33m\u001b[0m\u001b[0m\n\u001b[0;32m      6\u001b[0m \u001b[1;32mfrom\u001b[0m \u001b[0mnparrayCaculate\u001b[0m \u001b[1;32mimport\u001b[0m \u001b[0mallFilePath\u001b[0m\u001b[1;33m\u001b[0m\u001b[1;33m\u001b[0m\u001b[0m\n\u001b[1;32m----> 7\u001b[1;33m \u001b[0msys\u001b[0m\u001b[1;33m.\u001b[0m\u001b[0mstdout\u001b[0m\u001b[1;33m=\u001b[0m\u001b[0mio\u001b[0m\u001b[1;33m.\u001b[0m\u001b[0mTextIOWrapper\u001b[0m\u001b[1;33m(\u001b[0m\u001b[0msys\u001b[0m\u001b[1;33m.\u001b[0m\u001b[0mstdout\u001b[0m\u001b[1;33m.\u001b[0m\u001b[0mbuffer\u001b[0m\u001b[1;33m,\u001b[0m\u001b[0mencoding\u001b[0m\u001b[1;33m=\u001b[0m\u001b[1;34m'utf8'\u001b[0m\u001b[1;33m)\u001b[0m\u001b[1;33m\u001b[0m\u001b[1;33m\u001b[0m\u001b[0m\n\u001b[0m\u001b[0;32m      8\u001b[0m \u001b[1;33m\u001b[0m\u001b[0m\n\u001b[0;32m      9\u001b[0m \u001b[1;33m\u001b[0m\u001b[0m\n",
      "\u001b[1;31mAttributeError\u001b[0m: 'OutStream' object has no attribute 'buffer'"
     ]
    }
   ]
  },
  {
   "cell_type": "code",
   "execution_count": null,
   "metadata": {},
   "outputs": [],
   "source": []
  },
  {
   "cell_type": "code",
   "execution_count": null,
   "metadata": {},
   "outputs": [],
   "source": []
  }
 ]
}